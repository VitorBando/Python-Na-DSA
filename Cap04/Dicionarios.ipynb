{
 "cells": [
  {
   "cell_type": "markdown",
   "id": "ee8e1055",
   "metadata": {},
   "source": [
    "## DSA Estrutura de Dados (dicionarios)"
   ]
  },
  {
   "cell_type": "code",
   "execution_count": 1,
   "id": "fd05f0ce",
   "metadata": {},
   "outputs": [
    {
     "name": "stdout",
     "output_type": "stream",
     "text": [
      "Versão da linguagem Python usada Neste JupyterNotebook 3.9.13\n"
     ]
    }
   ],
   "source": [
    "# Versão da linguagem Python\n",
    "from platform import python_version\n",
    "print('Versão da linguagem Python usada Neste JupyterNotebook', python_version())"
   ]
  },
  {
   "cell_type": "markdown",
   "id": "aa7862ff",
   "metadata": {},
   "source": [
    "### Trabalhando com Dicionarios"
   ]
  },
  {
   "cell_type": "code",
   "execution_count": 4,
   "id": "5d9b04d9",
   "metadata": {},
   "outputs": [],
   "source": [
    "# Isso é uma lista\n",
    "estudantes_lst = ['Pedro', 24, 'Ana', 22, 'Ronaldo', 26, 'Janaina', 25]"
   ]
  },
  {
   "cell_type": "code",
   "execution_count": 6,
   "id": "46839849",
   "metadata": {},
   "outputs": [
    {
     "data": {
      "text/plain": [
       "['Pedro', 24, 'Ana', 22, 'Ronaldo', 26, 'Janaina', 25]"
      ]
     },
     "execution_count": 6,
     "metadata": {},
     "output_type": "execute_result"
    }
   ],
   "source": [
    "estudantes_lst"
   ]
  },
  {
   "cell_type": "code",
   "execution_count": 7,
   "id": "43fd2ebe",
   "metadata": {},
   "outputs": [
    {
     "data": {
      "text/plain": [
       "list"
      ]
     },
     "execution_count": 7,
     "metadata": {},
     "output_type": "execute_result"
    }
   ],
   "source": [
    "type(estudantes_lst)"
   ]
  },
  {
   "cell_type": "code",
   "execution_count": 8,
   "id": "71685629",
   "metadata": {},
   "outputs": [],
   "source": [
    "# Isso é um dicionario\n",
    "estudantes_dict = {'Pedro':24,'Ana':22, 'Ronaldo':26, 'Janaina':25}"
   ]
  },
  {
   "cell_type": "code",
   "execution_count": 9,
   "id": "9931d1d4",
   "metadata": {},
   "outputs": [
    {
     "data": {
      "text/plain": [
       "{'Pedro': 24, 'Ana': 22, 'Ronaldo': 26, 'Janaina': 25}"
      ]
     },
     "execution_count": 9,
     "metadata": {},
     "output_type": "execute_result"
    }
   ],
   "source": [
    "estudantes_dict"
   ]
  },
  {
   "cell_type": "code",
   "execution_count": 10,
   "id": "1ac52475",
   "metadata": {},
   "outputs": [
    {
     "data": {
      "text/plain": [
       "dict"
      ]
     },
     "execution_count": 10,
     "metadata": {},
     "output_type": "execute_result"
    }
   ],
   "source": [
    "type(estudantes_dict)"
   ]
  },
  {
   "cell_type": "code",
   "execution_count": 11,
   "id": "56ce0677",
   "metadata": {},
   "outputs": [
    {
     "data": {
      "text/plain": [
       "24"
      ]
     },
     "execution_count": 11,
     "metadata": {},
     "output_type": "execute_result"
    }
   ],
   "source": [
    "estudantes_dict['Pedro']"
   ]
  },
  {
   "cell_type": "code",
   "execution_count": 12,
   "id": "e1c199ec",
   "metadata": {},
   "outputs": [],
   "source": [
    "estudantes_dict['Marcelo'] = 23"
   ]
  },
  {
   "cell_type": "code",
   "execution_count": 13,
   "id": "f2d7e68b",
   "metadata": {},
   "outputs": [
    {
     "data": {
      "text/plain": [
       "23"
      ]
     },
     "execution_count": 13,
     "metadata": {},
     "output_type": "execute_result"
    }
   ],
   "source": [
    "estudantes_dict['Marcelo']"
   ]
  },
  {
   "cell_type": "code",
   "execution_count": 14,
   "id": "6658f166",
   "metadata": {},
   "outputs": [],
   "source": [
    "estudantes_dict.clear()"
   ]
  },
  {
   "cell_type": "code",
   "execution_count": 15,
   "id": "cb0ae2f1",
   "metadata": {},
   "outputs": [
    {
     "data": {
      "text/plain": [
       "{}"
      ]
     },
     "execution_count": 15,
     "metadata": {},
     "output_type": "execute_result"
    }
   ],
   "source": [
    "estudantes_dict"
   ]
  },
  {
   "cell_type": "code",
   "execution_count": 17,
   "id": "dd4792fb",
   "metadata": {},
   "outputs": [],
   "source": [
    "del estudantes_dict"
   ]
  },
  {
   "cell_type": "code",
   "execution_count": 18,
   "id": "5493d4cb",
   "metadata": {},
   "outputs": [
    {
     "ename": "NameError",
     "evalue": "name 'estudantes_dict' is not defined",
     "output_type": "error",
     "traceback": [
      "\u001b[1;31m---------------------------------------------------------------------------\u001b[0m",
      "\u001b[1;31mNameError\u001b[0m                                 Traceback (most recent call last)",
      "\u001b[1;32m~\\AppData\\Local\\Temp\\ipykernel_4416\\1634695477.py\u001b[0m in \u001b[0;36m<module>\u001b[1;34m\u001b[0m\n\u001b[1;32m----> 1\u001b[1;33m \u001b[0mestudantes_dict\u001b[0m\u001b[1;33m\u001b[0m\u001b[1;33m\u001b[0m\u001b[0m\n\u001b[0m",
      "\u001b[1;31mNameError\u001b[0m: name 'estudantes_dict' is not defined"
     ]
    }
   ],
   "source": [
    "estudantes_dict"
   ]
  },
  {
   "cell_type": "code",
   "execution_count": 19,
   "id": "0c9b21f0",
   "metadata": {},
   "outputs": [],
   "source": [
    "estudantes = {'Pedro':24, 'Ana':22, 'Ronaldo':25, 'Janaina':25}"
   ]
  },
  {
   "cell_type": "code",
   "execution_count": 20,
   "id": "4e69f28a",
   "metadata": {},
   "outputs": [
    {
     "data": {
      "text/plain": [
       "{'Pedro': 24, 'Ana': 22, 'Ronaldo': 25, 'Janaina': 25}"
      ]
     },
     "execution_count": 20,
     "metadata": {},
     "output_type": "execute_result"
    }
   ],
   "source": [
    "estudantes"
   ]
  },
  {
   "cell_type": "code",
   "execution_count": 21,
   "id": "e3c9a43e",
   "metadata": {},
   "outputs": [
    {
     "data": {
      "text/plain": [
       "4"
      ]
     },
     "execution_count": 21,
     "metadata": {},
     "output_type": "execute_result"
    }
   ],
   "source": [
    "len(estudantes)"
   ]
  },
  {
   "cell_type": "code",
   "execution_count": 22,
   "id": "9e0eb66e",
   "metadata": {},
   "outputs": [
    {
     "data": {
      "text/plain": [
       "dict_keys(['Pedro', 'Ana', 'Ronaldo', 'Janaina'])"
      ]
     },
     "execution_count": 22,
     "metadata": {},
     "output_type": "execute_result"
    }
   ],
   "source": [
    "estudantes.keys()"
   ]
  },
  {
   "cell_type": "code",
   "execution_count": 23,
   "id": "7f71617a",
   "metadata": {},
   "outputs": [
    {
     "data": {
      "text/plain": [
       "dict_values([24, 22, 25, 25])"
      ]
     },
     "execution_count": 23,
     "metadata": {},
     "output_type": "execute_result"
    }
   ],
   "source": [
    "estudantes.values()"
   ]
  },
  {
   "cell_type": "code",
   "execution_count": 24,
   "id": "9a1378dd",
   "metadata": {},
   "outputs": [
    {
     "ename": "AttributeError",
     "evalue": "'dict' object has no attribute 'item'",
     "output_type": "error",
     "traceback": [
      "\u001b[1;31m---------------------------------------------------------------------------\u001b[0m",
      "\u001b[1;31mAttributeError\u001b[0m                            Traceback (most recent call last)",
      "\u001b[1;32m~\\AppData\\Local\\Temp\\ipykernel_4416\\278516387.py\u001b[0m in \u001b[0;36m<module>\u001b[1;34m\u001b[0m\n\u001b[1;32m----> 1\u001b[1;33m \u001b[0mestudantes\u001b[0m\u001b[1;33m.\u001b[0m\u001b[0mitem\u001b[0m\u001b[1;33m(\u001b[0m\u001b[1;33m)\u001b[0m\u001b[1;33m\u001b[0m\u001b[1;33m\u001b[0m\u001b[0m\n\u001b[0m",
      "\u001b[1;31mAttributeError\u001b[0m: 'dict' object has no attribute 'item'"
     ]
    }
   ],
   "source": [
    "estudantes.item()"
   ]
  },
  {
   "cell_type": "code",
   "execution_count": 25,
   "id": "02d1a7ee",
   "metadata": {},
   "outputs": [],
   "source": [
    "estudantes2 = {'Camila':27, 'Adriana':28, 'Roberta':26}"
   ]
  },
  {
   "cell_type": "code",
   "execution_count": 26,
   "id": "958cdfb3",
   "metadata": {},
   "outputs": [
    {
     "data": {
      "text/plain": [
       "{'Camila': 27, 'Adriana': 28, 'Roberta': 26}"
      ]
     },
     "execution_count": 26,
     "metadata": {},
     "output_type": "execute_result"
    }
   ],
   "source": [
    "estudantes2"
   ]
  },
  {
   "cell_type": "code",
   "execution_count": 27,
   "id": "22e04bc2",
   "metadata": {},
   "outputs": [],
   "source": [
    "estudantes.update(estudantes2)"
   ]
  },
  {
   "cell_type": "code",
   "execution_count": 28,
   "id": "a19ee514",
   "metadata": {},
   "outputs": [
    {
     "data": {
      "text/plain": [
       "{'Pedro': 24,\n",
       " 'Ana': 22,\n",
       " 'Ronaldo': 25,\n",
       " 'Janaina': 25,\n",
       " 'Camila': 27,\n",
       " 'Adriana': 28,\n",
       " 'Roberta': 26}"
      ]
     },
     "execution_count": 28,
     "metadata": {},
     "output_type": "execute_result"
    }
   ],
   "source": [
    "estudantes"
   ]
  },
  {
   "cell_type": "code",
   "execution_count": 29,
   "id": "1afcaccc",
   "metadata": {},
   "outputs": [],
   "source": [
    "dic1 = {}"
   ]
  },
  {
   "cell_type": "code",
   "execution_count": 30,
   "id": "5f09a76b",
   "metadata": {},
   "outputs": [
    {
     "data": {
      "text/plain": [
       "{}"
      ]
     },
     "execution_count": 30,
     "metadata": {},
     "output_type": "execute_result"
    }
   ],
   "source": [
    "dic1"
   ]
  },
  {
   "cell_type": "code",
   "execution_count": 31,
   "id": "759dd6b2",
   "metadata": {},
   "outputs": [],
   "source": [
    "dic1['chave_um'] = 2"
   ]
  },
  {
   "cell_type": "code",
   "execution_count": 32,
   "id": "13908fbf",
   "metadata": {},
   "outputs": [
    {
     "data": {
      "text/plain": [
       "{'chave_um': 2}"
      ]
     },
     "execution_count": 32,
     "metadata": {},
     "output_type": "execute_result"
    }
   ],
   "source": [
    "dic1"
   ]
  },
  {
   "cell_type": "code",
   "execution_count": 33,
   "id": "c8367f96",
   "metadata": {},
   "outputs": [],
   "source": [
    "dic1[10] = 5"
   ]
  },
  {
   "cell_type": "code",
   "execution_count": 34,
   "id": "b7d4c327",
   "metadata": {},
   "outputs": [
    {
     "data": {
      "text/plain": [
       "{'chave_um': 2, 10: 5}"
      ]
     },
     "execution_count": 34,
     "metadata": {},
     "output_type": "execute_result"
    }
   ],
   "source": [
    "dic1"
   ]
  },
  {
   "cell_type": "code",
   "execution_count": 35,
   "id": "6a972172",
   "metadata": {},
   "outputs": [],
   "source": [
    "dic1[9.13] = 'Python'"
   ]
  },
  {
   "cell_type": "code",
   "execution_count": 36,
   "id": "40466f86",
   "metadata": {},
   "outputs": [
    {
     "data": {
      "text/plain": [
       "{'chave_um': 2, 10: 5, 9.13: 'Python'}"
      ]
     },
     "execution_count": 36,
     "metadata": {},
     "output_type": "execute_result"
    }
   ],
   "source": [
    "dic1"
   ]
  },
  {
   "cell_type": "code",
   "execution_count": 37,
   "id": "c77d33f4",
   "metadata": {},
   "outputs": [],
   "source": [
    "dic1['teste'] = 5"
   ]
  },
  {
   "cell_type": "code",
   "execution_count": 38,
   "id": "e3a9d1dd",
   "metadata": {},
   "outputs": [
    {
     "data": {
      "text/plain": [
       "{'chave_um': 2, 10: 5, 9.13: 'Python', 'teste': 5}"
      ]
     },
     "execution_count": 38,
     "metadata": {},
     "output_type": "execute_result"
    }
   ],
   "source": [
    "dic1"
   ]
  },
  {
   "cell_type": "code",
   "execution_count": 39,
   "id": "85a383e9",
   "metadata": {},
   "outputs": [],
   "source": [
    "dict1 = {}"
   ]
  },
  {
   "cell_type": "code",
   "execution_count": 40,
   "id": "ca5a0f9d",
   "metadata": {},
   "outputs": [],
   "source": [
    "dict1['teste'] = 10"
   ]
  },
  {
   "cell_type": "code",
   "execution_count": 41,
   "id": "19382c21",
   "metadata": {},
   "outputs": [],
   "source": [
    "dict1['key'] = 'teste'"
   ]
  },
  {
   "cell_type": "code",
   "execution_count": 43,
   "id": "ce4e9484",
   "metadata": {},
   "outputs": [
    {
     "data": {
      "text/plain": [
       "{'teste': 10, 'key': 'teste'}"
      ]
     },
     "execution_count": 43,
     "metadata": {},
     "output_type": "execute_result"
    }
   ],
   "source": [
    "# Atenção, pois a chave e valor podem ser iguais, mas representam coisas diferentes\n",
    "dict1"
   ]
  },
  {
   "cell_type": "code",
   "execution_count": 44,
   "id": "e29d8923",
   "metadata": {},
   "outputs": [],
   "source": [
    "dict2 = {}"
   ]
  },
  {
   "cell_type": "code",
   "execution_count": 45,
   "id": "4ae0b7cd",
   "metadata": {},
   "outputs": [],
   "source": [
    "dict2['key1'] = 'Data Science'"
   ]
  },
  {
   "cell_type": "code",
   "execution_count": 46,
   "id": "5d5bd39d",
   "metadata": {},
   "outputs": [],
   "source": [
    "dict2['key2'] = 10"
   ]
  },
  {
   "cell_type": "code",
   "execution_count": 47,
   "id": "4ec76067",
   "metadata": {},
   "outputs": [],
   "source": [
    "dict2['key3'] = 100"
   ]
  },
  {
   "cell_type": "code",
   "execution_count": 48,
   "id": "bdb59e08",
   "metadata": {},
   "outputs": [
    {
     "data": {
      "text/plain": [
       "{'key1': 'Data Science', 'key2': 10, 'key3': 100}"
      ]
     },
     "execution_count": 48,
     "metadata": {},
     "output_type": "execute_result"
    }
   ],
   "source": [
    "dict2"
   ]
  },
  {
   "cell_type": "code",
   "execution_count": 49,
   "id": "fabb94e3",
   "metadata": {},
   "outputs": [],
   "source": [
    "a = dict2['key1']"
   ]
  },
  {
   "cell_type": "code",
   "execution_count": 50,
   "id": "a14e4d13",
   "metadata": {},
   "outputs": [],
   "source": [
    "b = dict2['key2']"
   ]
  },
  {
   "cell_type": "code",
   "execution_count": 51,
   "id": "841f9fef",
   "metadata": {},
   "outputs": [],
   "source": [
    "c = dict2['key3']"
   ]
  },
  {
   "cell_type": "code",
   "execution_count": 52,
   "id": "64184748",
   "metadata": {},
   "outputs": [
    {
     "data": {
      "text/plain": [
       "('Data Science', 10, 100)"
      ]
     },
     "execution_count": 52,
     "metadata": {},
     "output_type": "execute_result"
    }
   ],
   "source": [
    "a,b,c"
   ]
  },
  {
   "cell_type": "code",
   "execution_count": 53,
   "id": "8b41461e",
   "metadata": {},
   "outputs": [],
   "source": [
    "# Dicionario de listas\n",
    "dict3 = {'chave1':1230, 'chave2':[22,453,73.4], 'chave3':['picanha', 'fraldinha', 'alcatra']}"
   ]
  },
  {
   "cell_type": "code",
   "execution_count": 54,
   "id": "74519675",
   "metadata": {},
   "outputs": [
    {
     "data": {
      "text/plain": [
       "{'chave1': 1230,\n",
       " 'chave2': [22, 453, 73.4],\n",
       " 'chave3': ['picanha', 'fraldinha', 'alcatra']}"
      ]
     },
     "execution_count": 54,
     "metadata": {},
     "output_type": "execute_result"
    }
   ],
   "source": [
    "dict3"
   ]
  },
  {
   "cell_type": "code",
   "execution_count": 55,
   "id": "76e4aa27",
   "metadata": {},
   "outputs": [
    {
     "data": {
      "text/plain": [
       "[22, 453, 73.4]"
      ]
     },
     "execution_count": 55,
     "metadata": {},
     "output_type": "execute_result"
    }
   ],
   "source": [
    "dict3['chave2']"
   ]
  },
  {
   "cell_type": "code",
   "execution_count": 56,
   "id": "3e01e965",
   "metadata": {},
   "outputs": [
    {
     "data": {
      "text/plain": [
       "'PICANHA'"
      ]
     },
     "execution_count": 56,
     "metadata": {},
     "output_type": "execute_result"
    }
   ],
   "source": [
    "# Acessando um item da lista, dentro do dicionario\n",
    "dict3['chave3'][0].upper()"
   ]
  },
  {
   "cell_type": "code",
   "execution_count": 57,
   "id": "598090a2",
   "metadata": {},
   "outputs": [],
   "source": [
    "var1 = dict3['chave2'][0] - 2"
   ]
  },
  {
   "cell_type": "code",
   "execution_count": 58,
   "id": "eebc71cf",
   "metadata": {},
   "outputs": [
    {
     "data": {
      "text/plain": [
       "20"
      ]
     },
     "execution_count": 58,
     "metadata": {},
     "output_type": "execute_result"
    }
   ],
   "source": [
    "var1"
   ]
  },
  {
   "cell_type": "code",
   "execution_count": 59,
   "id": "52060982",
   "metadata": {},
   "outputs": [],
   "source": [
    "# Duas operações no mesmo comando, para atualizar um item dentro da lista\n",
    "dict3['chave2'][0] -= 2"
   ]
  },
  {
   "cell_type": "code",
   "execution_count": 60,
   "id": "2ab65c10",
   "metadata": {},
   "outputs": [
    {
     "data": {
      "text/plain": [
       "{'chave1': 1230,\n",
       " 'chave2': [20, 453, 73.4],\n",
       " 'chave3': ['picanha', 'fraldinha', 'alcatra']}"
      ]
     },
     "execution_count": 60,
     "metadata": {},
     "output_type": "execute_result"
    }
   ],
   "source": [
    "dict3"
   ]
  },
  {
   "cell_type": "markdown",
   "id": "ce11065d",
   "metadata": {},
   "source": [
    "### Criando discionarios aninhados"
   ]
  },
  {
   "cell_type": "code",
   "execution_count": 61,
   "id": "b5878cef",
   "metadata": {},
   "outputs": [],
   "source": [
    "# Criando dicionario aninhados\n",
    "dict_aninhado = {'key1':{'key2_aninhada':{'key3_aninhada':'Dict aninhado em Python'}}}"
   ]
  },
  {
   "cell_type": "code",
   "execution_count": 62,
   "id": "eb2f50db",
   "metadata": {},
   "outputs": [
    {
     "data": {
      "text/plain": [
       "{'key1': {'key2_aninhada': {'key3_aninhada': 'Dict aninhado em Python'}}}"
      ]
     },
     "execution_count": 62,
     "metadata": {},
     "output_type": "execute_result"
    }
   ],
   "source": [
    "dict_aninhado"
   ]
  },
  {
   "cell_type": "code",
   "execution_count": 63,
   "id": "eb3e2d8d",
   "metadata": {},
   "outputs": [
    {
     "data": {
      "text/plain": [
       "'Dict aninhado em Python'"
      ]
     },
     "execution_count": 63,
     "metadata": {},
     "output_type": "execute_result"
    }
   ],
   "source": [
    "dict_aninhado['key1']['key2_aninhada']['key3_aninhada']"
   ]
  },
  {
   "cell_type": "code",
   "execution_count": null,
   "id": "cbb1c907",
   "metadata": {},
   "outputs": [],
   "source": []
  }
 ],
 "metadata": {
  "kernelspec": {
   "display_name": "Python 3 (ipykernel)",
   "language": "python",
   "name": "python3"
  },
  "language_info": {
   "codemirror_mode": {
    "name": "ipython",
    "version": 3
   },
   "file_extension": ".py",
   "mimetype": "text/x-python",
   "name": "python",
   "nbconvert_exporter": "python",
   "pygments_lexer": "ipython3",
   "version": "3.9.13"
  }
 },
 "nbformat": 4,
 "nbformat_minor": 5
}
