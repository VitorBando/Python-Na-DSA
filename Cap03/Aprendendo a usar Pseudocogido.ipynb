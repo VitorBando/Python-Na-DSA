{
 "cells": [
  {
   "cell_type": "markdown",
   "id": "f3b71084",
   "metadata": {},
   "source": [
    "# DSA PSEUDOCODIGO PARALELOGRAMA"
   ]
  },
  {
   "cell_type": "markdown",
   "id": "61761a0e",
   "metadata": {},
   "source": [
    "Inicio\n",
    "\n",
    "\n",
    "Exiba \"Bem Vindo\"\n",
    "Peça para inserir o comprimento da base\n",
    "Armazene o comprimento da base em uma variavel\n",
    "Peça para inserir o comprimento da altura\n",
    "Armazene o comprimento da altura em uma variavel\n",
    "Calcule a area do paralelograma: base * altura\n",
    "Armazene o resultado do calculo do paralelograma eu uma variavel\n",
    "\n",
    "\n",
    "Fim"
   ]
  },
  {
   "cell_type": "markdown",
   "id": "f181cd31",
   "metadata": {},
   "source": [
    "# DSA PARALELOGRAMA PYTHON"
   ]
  },
  {
   "cell_type": "code",
   "execution_count": 5,
   "id": "d404ac76",
   "metadata": {},
   "outputs": [
    {
     "name": "stdout",
     "output_type": "stream",
     "text": [
      "Bem vindo! Calculo Paralelograma\n"
     ]
    }
   ],
   "source": [
    "print(\"Bem vindo! Calculo Paralelograma\")"
   ]
  },
  {
   "cell_type": "code",
   "execution_count": 6,
   "id": "2457ac8c",
   "metadata": {},
   "outputs": [
    {
     "name": "stdout",
     "output_type": "stream",
     "text": [
      "Insira o comprimento da base: 4\n"
     ]
    }
   ],
   "source": [
    "base = float(input(\"Insira o comprimento da base: \"))"
   ]
  },
  {
   "cell_type": "code",
   "execution_count": 7,
   "id": "701a8b42",
   "metadata": {},
   "outputs": [
    {
     "name": "stdout",
     "output_type": "stream",
     "text": [
      "Insira o comprimento da altura: 6\n"
     ]
    }
   ],
   "source": [
    "altura = float(input(\"Insira o comprimento da altura: \"))"
   ]
  },
  {
   "cell_type": "code",
   "execution_count": 10,
   "id": "3424ebf2",
   "metadata": {},
   "outputs": [],
   "source": [
    "area = base * altura"
   ]
  },
  {
   "cell_type": "code",
   "execution_count": 11,
   "id": "6da176c5",
   "metadata": {},
   "outputs": [
    {
     "name": "stdout",
     "output_type": "stream",
     "text": [
      "A area do paralelograma é de:  24.0\n"
     ]
    }
   ],
   "source": [
    "print(\"A area do paralelograma é de: \", area)"
   ]
  },
  {
   "cell_type": "markdown",
   "id": "f9863339",
   "metadata": {},
   "source": [
    "# DSA PSEUDOCODIGO CALCULADORA SIMPLES"
   ]
  },
  {
   "cell_type": "markdown",
   "id": "8d340480",
   "metadata": {},
   "source": [
    "Inicio\n",
    "\n",
    "\n",
    "Exiba \"Bem Vindo a Calculadora\"\n",
    "\n",
    "Peça para inserir o primeiro numero\n",
    "Armazene o primeiro numero em uma variavel\n",
    "Peça para escolher a operação\n",
    "Peça para inserir o segundo numero\n",
    "Armazene o segundo numero em uma variavel\n",
    "Peça para escolher uma operação (+, -, *, /)\n",
    "\n",
    "Calcule o resultado: primeiro numero \"operação\" segundo numero\n",
    "Armazene o resultado do calculo \n",
    "\n",
    "\n",
    "Fim"
   ]
  },
  {
   "cell_type": "code",
   "execution_count": 22,
   "id": "68a1d6d6",
   "metadata": {},
   "outputs": [
    {
     "name": "stdout",
     "output_type": "stream",
     "text": [
      "Bem vindo a calculadora\n"
     ]
    }
   ],
   "source": [
    "print(\"Bem vindo a calculadora\")"
   ]
  },
  {
   "cell_type": "code",
   "execution_count": 23,
   "id": "8634783d",
   "metadata": {
    "scrolled": true
   },
   "outputs": [
    {
     "name": "stdout",
     "output_type": "stream",
     "text": [
      "Insira um número: 5\n"
     ]
    }
   ],
   "source": [
    "num1 = float(input(\"Insira um número: \"))"
   ]
  },
  {
   "cell_type": "code",
   "execution_count": 24,
   "id": "3d86ed88",
   "metadata": {},
   "outputs": [
    {
     "name": "stdout",
     "output_type": "stream",
     "text": [
      "Insira um número: 8\n"
     ]
    }
   ],
   "source": [
    "num2 = float(input(\"Insira um número: \"))"
   ]
  },
  {
   "cell_type": "code",
   "execution_count": 25,
   "id": "e6ef1f3b",
   "metadata": {},
   "outputs": [
    {
     "name": "stdout",
     "output_type": "stream",
     "text": [
      "Escolha a operação (+, -, *, /) : *\n"
     ]
    }
   ],
   "source": [
    "operador = input(\"Escolha a operação (+, -, *, /) : \")"
   ]
  },
  {
   "cell_type": "code",
   "execution_count": 26,
   "id": "44be95b5",
   "metadata": {},
   "outputs": [
    {
     "name": "stdout",
     "output_type": "stream",
     "text": [
      "O resultado é:  40.0\n"
     ]
    }
   ],
   "source": [
    "if operador == \"+\":\n",
    "    resultado = num1 + num2\n",
    "    print(\"O resultado é: \", resultado)\n",
    "elif operador == \"-\":\n",
    "    resultado = num1 - num2\n",
    "    print(\"O resultado é: \", resultado)\n",
    "elif operador == \"*\":\n",
    "    resultado = num1 * num2\n",
    "    print(\"O resultado é: \", resultado)\n",
    "elif operador == \"/\":\n",
    "    resultado = num1 / num2\n",
    "    print(\"O resultado é: \", resultado) \n",
    "else \n",
    "    print(\"Operador invalido.\")"
   ]
  },
  {
   "cell_type": "markdown",
   "id": "ff1d32cc",
   "metadata": {},
   "source": [
    "# DSA PSEUDOCOGIDO BUBBLE SORT"
   ]
  },
  {
   "cell_type": "markdown",
   "id": "8b822c59",
   "metadata": {},
   "source": [
    "Inicio\n",
    "\n",
    "    Exiba \"Bem vindo ao ordernador!\"\n",
    "    \n",
    "    Para cada elemento i no array de tamanho n\n",
    "        Para cada elemento j no array de tamanha n-1\n",
    "            Se elemento i for maior que elemento j\n",
    "    Exiba array ordenado\n",
    "\n",
    "Fim"
   ]
  },
  {
   "cell_type": "code",
   "execution_count": 38,
   "id": "2620de24",
   "metadata": {},
   "outputs": [],
   "source": [
    "lista = [6,7,3,10,19,4,1,0,61,30,16,17,82,29,34,43,21,11,39,56,67,12]"
   ]
  },
  {
   "cell_type": "code",
   "execution_count": 39,
   "id": "024b7916",
   "metadata": {},
   "outputs": [],
   "source": [
    "def bubble_sort(arr):\n",
    "    \n",
    "    n = len(arr)\n",
    "    \n",
    "    for i in range(n):\n",
    "        \n",
    "        for j in range(0, n-i-1):\n",
    "            \n",
    "            if arr[j] > arr[j+1]:\n",
    "                \n",
    "                arr [j], arr[j+1] = arr[j+1], arr [j]\n",
    "    return arr"
   ]
  },
  {
   "cell_type": "code",
   "execution_count": 40,
   "id": "d339d831",
   "metadata": {},
   "outputs": [],
   "source": [
    "lista2 = [16,37,32,110,119,4,1,0,61,30,16,17,82,29,34,43,21,11,39,56,67,12]"
   ]
  },
  {
   "cell_type": "code",
   "execution_count": 41,
   "id": "5b74fb38",
   "metadata": {},
   "outputs": [
    {
     "name": "stdout",
     "output_type": "stream",
     "text": [
      "[0, 1, 3, 4, 6, 7, 10, 11, 12, 16, 17, 19, 21, 29, 30, 34, 39, 43, 56, 61, 67, 82]\n"
     ]
    }
   ],
   "source": [
    "print (bubble_sort(lista))"
   ]
  },
  {
   "cell_type": "code",
   "execution_count": 42,
   "id": "78f6ad23",
   "metadata": {},
   "outputs": [
    {
     "name": "stdout",
     "output_type": "stream",
     "text": [
      "[0, 1, 4, 11, 12, 16, 16, 17, 21, 29, 30, 32, 34, 37, 39, 43, 56, 61, 67, 82, 110, 119]\n"
     ]
    }
   ],
   "source": [
    "print(bubble_sort(lista2))"
   ]
  }
 ],
 "metadata": {
  "kernelspec": {
   "display_name": "Python 3 (ipykernel)",
   "language": "python",
   "name": "python3"
  },
  "language_info": {
   "codemirror_mode": {
    "name": "ipython",
    "version": 3
   },
   "file_extension": ".py",
   "mimetype": "text/x-python",
   "name": "python",
   "nbconvert_exporter": "python",
   "pygments_lexer": "ipython3",
   "version": "3.9.13"
  }
 },
 "nbformat": 4,
 "nbformat_minor": 5
}
