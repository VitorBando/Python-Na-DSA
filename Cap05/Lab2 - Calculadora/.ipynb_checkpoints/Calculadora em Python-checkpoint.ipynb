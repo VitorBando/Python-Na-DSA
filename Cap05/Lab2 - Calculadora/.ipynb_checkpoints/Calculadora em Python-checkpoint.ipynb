{
 "cells": [
  {
   "cell_type": "markdown",
   "id": "2bb63ce0",
   "metadata": {},
   "source": [
    "## Calculadora (Primeiro Projeto em Python da DSA)"
   ]
  },
  {
   "cell_type": "code",
   "execution_count": 1,
   "id": "780f2f63",
   "metadata": {},
   "outputs": [],
   "source": [
    "# Calculadora em Python\n",
    "# Desenvolva uma calculadora em Python com tudo que você aprendeu nos capítulos até aqui no curso\n",
    "# A solução será apresentada no próximo capítulo1"
   ]
  },
  {
   "cell_type": "code",
   "execution_count": 2,
   "id": "8e265aa6",
   "metadata": {},
   "outputs": [
    {
     "name": "stdout",
     "output_type": "stream",
     "text": [
      "\n",
      "****************** Calculadora em Python ******************\n",
      "\n",
      "\n",
      " Selecione o número da operação desejada:\n",
      "1 - Soma \n",
      "2 - Subtração \n",
      "3 - Multiplicação \n",
      "4 - Divisao\n",
      "\n",
      "\n",
      "Digite sua opção (1/2/3/4): 1\n",
      "\n",
      "Digite o primeiro valor: 1\n",
      "\n",
      "Digite o segundo valor: 1\n",
      "A soma entre os dois números é: 2\n",
      "Wall time: 899 ms\n"
     ]
    }
   ],
   "source": [
    "%%time\n",
    "\n",
    "print('\\n****************** Calculadora em Python 1 ******************')\n",
    "\n",
    "print('\\n\\n Selecione o número da operação desejada:')\n",
    "print('1 - Soma \\n2 - Subtração \\n3 - Multiplicação \\n4 - Divisao')\n",
    "operacao = int(input('\\n\\nDigite sua opção (1/2/3/4): '))\n",
    "num1 = int(input('\\nDigite o primeiro valor: '))\n",
    "num2 = int(input('\\nDigite o segundo valor: '))\n",
    "\n",
    "\n",
    "\n",
    "def soma(arg1,arg2):\n",
    "    if operacao == 1:\n",
    "        res1 = arg1+arg2\n",
    "        print(f'A soma entre os dois números é: {res1}')\n",
    "\n",
    "def subtracao(arg1,arg2):\n",
    "    if operacao == 2:\n",
    "        res2 = arg1-arg2\n",
    "        print(f'A subtração entre os dois números é: {res2}')\n",
    "    \n",
    "def multiplicacao(arg1,arg2):\n",
    "    if operacao == 3:\n",
    "        res3 = arg1*arg2\n",
    "        print(f'A multiplicação entre os dois números é: {res3}')\n",
    "    \n",
    "def divisao(arg1,arg2):\n",
    "    if operacao == 4:\n",
    "        res4 = arg1/arg2\n",
    "        print(f'A divisão entre os dois números é: {res4}')\n",
    "\n",
    "\n",
    "def calc():\n",
    "    if operacao == 1:\n",
    "        soma(num1,num2)\n",
    "    elif operacao == 2:\n",
    "        subtracao(num1,num2)\n",
    "    elif operacao == 3:\n",
    "        multiplicacao(num1,num2)\n",
    "    elif operacao == 4:\n",
    "        divisao(num1,num2)\n",
    "    else:\n",
    "        print('Digite uma operação válida!!!')\n",
    "                \n",
    "calc()"
   ]
  },
  {
   "cell_type": "code",
   "execution_count": 3,
   "id": "80f06476",
   "metadata": {},
   "outputs": [
    {
     "name": "stdout",
     "output_type": "stream",
     "text": [
      "\n",
      "****************** Calculadora em Python ******************\n",
      "\n",
      "\n",
      " Selecione o número da operação desejada:\n",
      "1 - Soma \n",
      "2 - Subtração \n",
      "3 - Multiplicação \n",
      "4 - Divisao\n",
      "\n",
      "\n",
      "Digite sua opção (1/2/3/4): 1\n",
      "\n",
      "Digite o primeiro valor: 1\n",
      "\n",
      "Digite o segundo valor: 1\n",
      "A soma entre os dois números é: 2\n",
      "Wall time: 426 ms\n"
     ]
    }
   ],
   "source": [
    "%%time\n",
    "\n",
    "print('\\n****************** Calculadora em Python 2 ******************')\n",
    "\n",
    "print('\\n\\n Selecione o número da operação desejada:')\n",
    "print('1 - Soma \\n2 - Subtração \\n3 - Multiplicação \\n4 - Divisao')\n",
    "operacao = int(input('\\n\\nDigite sua opção (1/2/3/4): '))\n",
    "num1 = int(input('\\nDigite o primeiro valor: '))\n",
    "num2 = int(input('\\nDigite o segundo valor: '))\n",
    "\n",
    "def calculo(arg1,arg2):\n",
    "    if operacao == 1:\n",
    "        res1 = arg1 + arg2\n",
    "        print(f'A soma entre os dois números é: {res1}')\n",
    "    elif operacao == 2:\n",
    "        res2 = arg1 - arg2 \n",
    "        print(f'A subtração entre os dois números é: {res2}')\n",
    "    elif operacao == 3:\n",
    "        res3 = arg1 * arg2\n",
    "        print(f'A multiplicação entre os dois números é: {res3}')\n",
    "    elif operacao == 4:\n",
    "        res4 = arg1 / arg2\n",
    "        print(f'A divisão entre os dois números é: {res4}')\n",
    "    else:\n",
    "        print(f'Digite uma operação válida!')\n",
    "    \n",
    "calculo(num1,num2)"
   ]
  },
  {
   "cell_type": "code",
   "execution_count": 12,
   "id": "cda96ff9",
   "metadata": {},
   "outputs": [
    {
     "name": "stdout",
     "output_type": "stream",
     "text": [
      "\n",
      "****************** Calculadora em Python 3 ******************\n",
      "\n",
      "\n",
      " Selecione o número da operação desejada:\n",
      "+ | Soma \n",
      "- | Subtração \n",
      "* | Multiplicação \n",
      "/ | Divisao\n",
      "\n",
      "\n",
      "Digite sua opção (+, -, *, /): *\n",
      "\n",
      "Digite o primeiro valor: 6\n",
      "\n",
      "Digite o segundo valor: 5\n",
      "6 * 5 = 30\n"
     ]
    }
   ],
   "source": [
    "print('\\n****************** Calculadora em Python 3 ******************')\n",
    "\n",
    "# Essa calculadora foi feita após visualizar o modelo do professor no curso e tambem implementado o \"=\"  para efetuar o calculo\n",
    "# ou CE para reiniciar a calculadora\n",
    "print('\\n\\n Selecione o número da operação desejada:')\n",
    "print('+ | Soma \\n- | Subtração \\n* | Multiplicação \\n/ | Divisao')\n",
    "operacao = input('\\n\\nDigite sua opção (+, -, *, /): ')\n",
    "num1 = int(input('\\nDigite o primeiro valor: '))\n",
    "num2 = int(input('\\nDigite o segundo valor: '))\n",
    "\n",
    "def soma(a,b):\n",
    "    return a+b\n",
    "\n",
    "def subtracao(a,b):\n",
    "    return a-b\n",
    "\n",
    "def multiplicacao(a,b):\n",
    "    return a*b\n",
    "\n",
    "def divisao(a,b):\n",
    "    return a/b\n",
    "\n",
    "\n",
    "def calculo():\n",
    "        if operacao == '+':\n",
    "            print(f'{num1} + {num2} = {soma(num1,num2)}')\n",
    "        elif operacao == '-':\n",
    "            print(f'{num1} - {num2} = {subtracao(num1,num2)}')\n",
    "        elif operacao == '*':\n",
    "            print(f'{num1} * {num2} = {multiplicacao(num1,num2)}')\n",
    "        elif operacao == '/':\n",
    "            print(f'{num1} / {num2} = {divisao(num1,num2)}')\n",
    "        else:\n",
    "            print('Digite uma operação válida!!!')\n",
    "        \n",
    "            \n",
    "calculo()\n"
   ]
  },
  {
   "cell_type": "code",
   "execution_count": null,
   "id": "5568d42d",
   "metadata": {},
   "outputs": [],
   "source": [
    "btequals = '='\n",
    "sts = True\n",
    "while sts == True:\n",
    "    if btequals == '=':\n",
    "        sts = True\n",
    "    else:\n",
    "        sts = False"
   ]
  }
 ],
 "metadata": {
  "kernelspec": {
   "display_name": "Python 3 (ipykernel)",
   "language": "python",
   "name": "python3"
  },
  "language_info": {
   "codemirror_mode": {
    "name": "ipython",
    "version": 3
   },
   "file_extension": ".py",
   "mimetype": "text/x-python",
   "name": "python",
   "nbconvert_exporter": "python",
   "pygments_lexer": "ipython3",
   "version": "3.9.13"
  }
 },
 "nbformat": 4,
 "nbformat_minor": 5
}
