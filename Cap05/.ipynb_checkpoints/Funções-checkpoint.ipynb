{
 "cells": [
  {
   "cell_type": "markdown",
   "id": "52272e13",
   "metadata": {},
   "source": [
    "# DSA Funções"
   ]
  },
  {
   "cell_type": "code",
   "execution_count": 1,
   "id": "b5c2cba4",
   "metadata": {},
   "outputs": [
    {
     "name": "stdout",
     "output_type": "stream",
     "text": [
      "Versão Python 3.9.13\n"
     ]
    }
   ],
   "source": [
    "# Versão da linguagem Python \n",
    "from platform import python_version\n",
    "print('Versão Python ' + python_version())"
   ]
  },
  {
   "cell_type": "markdown",
   "id": "abfca411",
   "metadata": {},
   "source": [
    "## Funções"
   ]
  },
  {
   "cell_type": "code",
   "execution_count": 2,
   "id": "bb165357",
   "metadata": {},
   "outputs": [
    {
     "name": "stdout",
     "output_type": "stream",
     "text": [
      "Hello World\n"
     ]
    }
   ],
   "source": [
    "print('Hello World')"
   ]
  },
  {
   "cell_type": "code",
   "execution_count": 3,
   "id": "f7aa4153",
   "metadata": {},
   "outputs": [],
   "source": [
    "# definindo uma função\n",
    "def primeiraFunc():\n",
    "    print('Hello World')"
   ]
  },
  {
   "cell_type": "code",
   "execution_count": 4,
   "id": "27d3918c",
   "metadata": {},
   "outputs": [
    {
     "name": "stdout",
     "output_type": "stream",
     "text": [
      "Hello World\n"
     ]
    }
   ],
   "source": [
    "primeiraFunc()"
   ]
  },
  {
   "cell_type": "code",
   "execution_count": 7,
   "id": "90939fc0",
   "metadata": {},
   "outputs": [],
   "source": [
    "# definindo uma \n",
    "def primeiraFunc():\n",
    "    nome = 'Vitor'\n",
    "    print('Hello %s' %(nome))"
   ]
  },
  {
   "cell_type": "code",
   "execution_count": 8,
   "id": "80cd8604",
   "metadata": {},
   "outputs": [
    {
     "name": "stdout",
     "output_type": "stream",
     "text": [
      "Hello Vitor\n"
     ]
    }
   ],
   "source": [
    "primeiraFunc()"
   ]
  },
  {
   "cell_type": "code",
   "execution_count": 9,
   "id": "5be20aa9",
   "metadata": {},
   "outputs": [],
   "source": [
    "# definindo uma função com parametro\n",
    "def segundaFunc(nome):\n",
    "    print('Hello %s' %(nome))"
   ]
  },
  {
   "cell_type": "code",
   "execution_count": 10,
   "id": "31d3a76a",
   "metadata": {},
   "outputs": [
    {
     "name": "stdout",
     "output_type": "stream",
     "text": [
      "Hello Aluno\n"
     ]
    }
   ],
   "source": [
    "segundaFunc('Aluno')"
   ]
  },
  {
   "cell_type": "code",
   "execution_count": 11,
   "id": "017c660a",
   "metadata": {},
   "outputs": [
    {
     "ename": "TypeError",
     "evalue": "segundaFunc() missing 1 required positional argument: 'nome'",
     "output_type": "error",
     "traceback": [
      "\u001b[1;31m---------------------------------------------------------------------------\u001b[0m",
      "\u001b[1;31mTypeError\u001b[0m                                 Traceback (most recent call last)",
      "\u001b[1;32m~\\AppData\\Local\\Temp\\ipykernel_15612\\494153477.py\u001b[0m in \u001b[0;36m<module>\u001b[1;34m\u001b[0m\n\u001b[1;32m----> 1\u001b[1;33m \u001b[0msegundaFunc\u001b[0m\u001b[1;33m(\u001b[0m\u001b[1;33m)\u001b[0m\u001b[1;33m\u001b[0m\u001b[1;33m\u001b[0m\u001b[0m\n\u001b[0m",
      "\u001b[1;31mTypeError\u001b[0m: segundaFunc() missing 1 required positional argument: 'nome'"
     ]
    }
   ],
   "source": [
    "segundaFunc()"
   ]
  },
  {
   "cell_type": "code",
   "execution_count": 14,
   "id": "9bee6f19",
   "metadata": {},
   "outputs": [],
   "source": [
    "# função para imprimir numeros\n",
    "def imprimeNumeros():\n",
    "    \n",
    "    # loop\n",
    "    for i in range(0,5):\n",
    "        print('Numero ' + str(i))"
   ]
  },
  {
   "cell_type": "code",
   "execution_count": 15,
   "id": "ceeb3698",
   "metadata": {},
   "outputs": [
    {
     "name": "stdout",
     "output_type": "stream",
     "text": [
      "Numero 0\n",
      "Numero 1\n",
      "Numero 2\n",
      "Numero 3\n",
      "Numero 4\n"
     ]
    }
   ],
   "source": [
    "imprimeNumeros()"
   ]
  },
  {
   "cell_type": "code",
   "execution_count": 21,
   "id": "61cf7cfc",
   "metadata": {},
   "outputs": [],
   "source": [
    "# função para somar números\n",
    "def addNum(firstnum, secondnum):\n",
    "    print('Primeiro número: ' + str(firstnum))\n",
    "    print('Segundo número: ' + str(secondnum))\n",
    "    print('Soma: ', firstnum + secondnum)"
   ]
  },
  {
   "cell_type": "code",
   "execution_count": 22,
   "id": "188b5c5b",
   "metadata": {},
   "outputs": [
    {
     "name": "stdout",
     "output_type": "stream",
     "text": [
      "Primeiro número: 10\n",
      "Segundo número: 15\n",
      "Soma:  25\n"
     ]
    }
   ],
   "source": [
    "# chamando a função e passando parametro\n",
    "addNum(10, 15)"
   ]
  },
  {
   "cell_type": "code",
   "execution_count": 24,
   "id": "0868e664",
   "metadata": {},
   "outputs": [
    {
     "name": "stdout",
     "output_type": "stream",
     "text": [
      "Primeiro número: 50\n",
      "Segundo número: 150\n",
      "Soma:  200\n"
     ]
    }
   ],
   "source": [
    "# chamando a função a passando parametro\n",
    "addNum(50, 150)"
   ]
  },
  {
   "cell_type": "code",
   "execution_count": 32,
   "id": "4f75c929",
   "metadata": {},
   "outputs": [],
   "source": [
    "# funções com número variavel de argumentos\n",
    "def printVarInfo(arg1, *vartuple):\n",
    "    # imprimindo o valor do primeiro argumento\n",
    "    print('O parametro passado foi: ', arg1)\n",
    "    \n",
    "    # imprimindo o valor do segundo argumento\n",
    "    for item in vartuple:\n",
    "        print('O parametro passado foi: ', item)\n",
    "    return;"
   ]
  },
  {
   "cell_type": "code",
   "execution_count": 33,
   "id": "80016f77",
   "metadata": {},
   "outputs": [
    {
     "name": "stdout",
     "output_type": "stream",
     "text": [
      "O parametro passado foi:  10\n"
     ]
    }
   ],
   "source": [
    "# fazendo chamada à função usando apenas 1 arg\n",
    "printVarInfo(10)"
   ]
  },
  {
   "cell_type": "code",
   "execution_count": 34,
   "id": "39218855",
   "metadata": {},
   "outputs": [
    {
     "name": "stdout",
     "output_type": "stream",
     "text": [
      "O parametro passado foi:  Abacaxi\n",
      "O parametro passado foi:  Pera\n"
     ]
    }
   ],
   "source": [
    "# fazendo chamada à função usando tupla\n",
    "printVarInfo('Abacaxi', 'Pera')"
   ]
  },
  {
   "cell_type": "code",
   "execution_count": 35,
   "id": "eeb198ff",
   "metadata": {},
   "outputs": [
    {
     "name": "stdout",
     "output_type": "stream",
     "text": [
      "O parametro passado foi:  Esteira\n",
      "O parametro passado foi:  Abdomen\n",
      "O parametro passado foi:  Jump\n"
     ]
    }
   ],
   "source": [
    "printVarInfo('Esteira','Abdomen','Jump')"
   ]
  },
  {
   "cell_type": "code",
   "execution_count": 38,
   "id": "4c2461b9",
   "metadata": {},
   "outputs": [],
   "source": [
    "def funcaoSoma(num1, num2):\n",
    "    print('Primeiro valor: %r' %(num1))\n",
    "    print('Segundo valor: %r' %(num2))\n",
    "    calculo = num1 + num2\n",
    "    print('A soma entre o Primeiro valor e o Segundo valor é: %r' %(calculo))"
   ]
  },
  {
   "cell_type": "code",
   "execution_count": 39,
   "id": "e0b149c0",
   "metadata": {},
   "outputs": [
    {
     "name": "stdout",
     "output_type": "stream",
     "text": [
      "Primeiro valor: 1\n",
      "Segundo valor: 2\n",
      "A soma entre o Primeiro valor e o Segundo valor é: 3\n"
     ]
    }
   ],
   "source": [
    "funcaoSoma(1,2)"
   ]
  },
  {
   "cell_type": "code",
   "execution_count": 40,
   "id": "5d38e8f3",
   "metadata": {},
   "outputs": [],
   "source": [
    "def funcaoSubtrair(num1, num2):\n",
    "    print('Primeiro valor: %r' %(num1))\n",
    "    print('Segundo valor: %r' %(num2))\n",
    "    calculo = num1 - num2\n",
    "    print('A Subtração entre o Primeiro valor e o Segundo valor é: %r' %(calculo))"
   ]
  },
  {
   "cell_type": "code",
   "execution_count": 41,
   "id": "e3e77b8d",
   "metadata": {},
   "outputs": [
    {
     "name": "stdout",
     "output_type": "stream",
     "text": [
      "Primeiro valor: 7\n",
      "Segundo valor: 9\n",
      "A soma entre o Primeiro valor e o Segundo valor é: -2\n"
     ]
    }
   ],
   "source": [
    "funcaoSubtrair(7,9)"
   ]
  },
  {
   "cell_type": "code",
   "execution_count": 42,
   "id": "2af3a630",
   "metadata": {},
   "outputs": [],
   "source": [
    "def funcaoMultiplicar(num1, num2):\n",
    "    print('Primeiro valor: %r' %(num1))\n",
    "    print('Segundo valor: %r' %(num2))\n",
    "    calculo = num1 * num2\n",
    "    print('A Multiplicação entre o Primeiro valor e o Segundo valor é: %r' %(calculo))"
   ]
  },
  {
   "cell_type": "code",
   "execution_count": 43,
   "id": "2ab1bdc4",
   "metadata": {},
   "outputs": [
    {
     "name": "stdout",
     "output_type": "stream",
     "text": [
      "Primeiro valor: 5\n",
      "Segundo valor: 5\n",
      "A Multiplicação entre o Primeiro valor e o Segundo valor é: 25\n"
     ]
    }
   ],
   "source": [
    "funcaoMultiplicar(5,5)"
   ]
  },
  {
   "cell_type": "markdown",
   "id": "dbc57979",
   "metadata": {},
   "source": [
    "## Escopo de Variável - Local e Global"
   ]
  },
  {
   "cell_type": "code",
   "execution_count": 44,
   "id": "aca601ab",
   "metadata": {},
   "outputs": [],
   "source": [
    "# Variavel Global\n",
    "var_global = 10 # esta é uma variavel global\n",
    "\n",
    "# função\n",
    "def multiplicaNumeros(num1, num2):\n",
    "    var_global = num1 * num2 # esta é uma variavel local\n",
    "    print(var_global)"
   ]
  },
  {
   "cell_type": "code",
   "execution_count": 45,
   "id": "d992913f",
   "metadata": {},
   "outputs": [
    {
     "name": "stdout",
     "output_type": "stream",
     "text": [
      "125\n"
     ]
    }
   ],
   "source": [
    "multiplicaNumeros(5,25)"
   ]
  },
  {
   "cell_type": "code",
   "execution_count": 46,
   "id": "ee711a7d",
   "metadata": {},
   "outputs": [
    {
     "name": "stdout",
     "output_type": "stream",
     "text": [
      "10\n"
     ]
    }
   ],
   "source": [
    "print(var_global)"
   ]
  },
  {
   "cell_type": "code",
   "execution_count": 47,
   "id": "7ad778be",
   "metadata": {},
   "outputs": [],
   "source": [
    "# Variavel Global\n",
    "var_global = 10 # esta é uma variavel global\n",
    "\n",
    "# função\n",
    "def multiplicaNumeros2(num1, num2):\n",
    "    var_local = num1 * num2 # esta é uma variavel local\n",
    "    print(var_local)"
   ]
  },
  {
   "cell_type": "code",
   "execution_count": 48,
   "id": "729d3a17",
   "metadata": {},
   "outputs": [
    {
     "name": "stdout",
     "output_type": "stream",
     "text": [
      "125\n"
     ]
    }
   ],
   "source": [
    "multiplicaNumeros2(5, 25)"
   ]
  },
  {
   "cell_type": "code",
   "execution_count": 49,
   "id": "70a05ce3",
   "metadata": {},
   "outputs": [
    {
     "ename": "NameError",
     "evalue": "name 'var_local' is not defined",
     "output_type": "error",
     "traceback": [
      "\u001b[1;31m---------------------------------------------------------------------------\u001b[0m",
      "\u001b[1;31mNameError\u001b[0m                                 Traceback (most recent call last)",
      "\u001b[1;32m~\\AppData\\Local\\Temp\\ipykernel_15612\\1392635205.py\u001b[0m in \u001b[0;36m<module>\u001b[1;34m\u001b[0m\n\u001b[1;32m----> 1\u001b[1;33m \u001b[0mprint\u001b[0m\u001b[1;33m(\u001b[0m\u001b[0mvar_local\u001b[0m\u001b[1;33m)\u001b[0m\u001b[1;33m\u001b[0m\u001b[1;33m\u001b[0m\u001b[0m\n\u001b[0m",
      "\u001b[1;31mNameError\u001b[0m: name 'var_local' is not defined"
     ]
    }
   ],
   "source": [
    "print(var_local)"
   ]
  },
  {
   "cell_type": "code",
   "execution_count": 50,
   "id": "fcafe511",
   "metadata": {},
   "outputs": [
    {
     "name": "stdout",
     "output_type": "stream",
     "text": [
      "10\n"
     ]
    }
   ],
   "source": [
    "print(var_global)"
   ]
  },
  {
   "cell_type": "markdown",
   "id": "914ef45f",
   "metadata": {},
   "source": [
    "## Funções Built-in"
   ]
  },
  {
   "cell_type": "code",
   "execution_count": 1,
   "id": "625bea76",
   "metadata": {},
   "outputs": [
    {
     "data": {
      "text/plain": [
       "56"
      ]
     },
     "execution_count": 1,
     "metadata": {},
     "output_type": "execute_result"
    }
   ],
   "source": [
    "abs(-56)"
   ]
  },
  {
   "cell_type": "code",
   "execution_count": 2,
   "id": "c8793763",
   "metadata": {},
   "outputs": [
    {
     "data": {
      "text/plain": [
       "23"
      ]
     },
     "execution_count": 2,
     "metadata": {},
     "output_type": "execute_result"
    }
   ],
   "source": [
    "abs(23)"
   ]
  },
  {
   "cell_type": "code",
   "execution_count": 3,
   "id": "a881a9da",
   "metadata": {},
   "outputs": [
    {
     "data": {
      "text/plain": [
       "False"
      ]
     },
     "execution_count": 3,
     "metadata": {},
     "output_type": "execute_result"
    }
   ],
   "source": [
    "bool(0)"
   ]
  },
  {
   "cell_type": "code",
   "execution_count": 4,
   "id": "bfacc315",
   "metadata": {},
   "outputs": [
    {
     "data": {
      "text/plain": [
       "True"
      ]
     },
     "execution_count": 4,
     "metadata": {},
     "output_type": "execute_result"
    }
   ],
   "source": [
    "bool(1)"
   ]
  },
  {
   "cell_type": "code",
   "execution_count": 5,
   "id": "12ead8d8",
   "metadata": {},
   "outputs": [
    {
     "data": {
      "text/plain": [
       "4"
      ]
     },
     "execution_count": 5,
     "metadata": {},
     "output_type": "execute_result"
    }
   ],
   "source": [
    "int(4.3)"
   ]
  },
  {
   "cell_type": "code",
   "execution_count": 6,
   "id": "ce3aa7ac",
   "metadata": {},
   "outputs": [
    {
     "data": {
      "text/plain": [
       "'13'"
      ]
     },
     "execution_count": 6,
     "metadata": {},
     "output_type": "execute_result"
    }
   ],
   "source": [
    "str(13)"
   ]
  },
  {
   "cell_type": "code",
   "execution_count": 7,
   "id": "8747d2f4",
   "metadata": {},
   "outputs": [
    {
     "data": {
      "text/plain": [
       "5.0"
      ]
     },
     "execution_count": 7,
     "metadata": {},
     "output_type": "execute_result"
    }
   ],
   "source": [
    "float(5)"
   ]
  },
  {
   "cell_type": "code",
   "execution_count": 8,
   "id": "0c78e0e6",
   "metadata": {},
   "outputs": [
    {
     "name": "stdout",
     "output_type": "stream",
     "text": [
      "Digite sua idade: 24\n"
     ]
    },
    {
     "ename": "TypeError",
     "evalue": "'>' not supported between instances of 'str' and 'int'",
     "output_type": "error",
     "traceback": [
      "\u001b[1;31m---------------------------------------------------------------------------\u001b[0m",
      "\u001b[1;31mTypeError\u001b[0m                                 Traceback (most recent call last)",
      "\u001b[1;32m~\\AppData\\Local\\Temp\\ipykernel_10672\\3647437813.py\u001b[0m in \u001b[0;36m<module>\u001b[1;34m\u001b[0m\n\u001b[0;32m      1\u001b[0m \u001b[1;31m# erro ao executar por causa de conversão\u001b[0m\u001b[1;33m\u001b[0m\u001b[1;33m\u001b[0m\u001b[0m\n\u001b[0;32m      2\u001b[0m \u001b[0midade\u001b[0m  \u001b[1;33m=\u001b[0m \u001b[0minput\u001b[0m\u001b[1;33m(\u001b[0m\u001b[1;34m'Digite sua idade: '\u001b[0m\u001b[1;33m)\u001b[0m\u001b[1;33m\u001b[0m\u001b[1;33m\u001b[0m\u001b[0m\n\u001b[1;32m----> 3\u001b[1;33m \u001b[1;32mif\u001b[0m \u001b[0midade\u001b[0m \u001b[1;33m>\u001b[0m \u001b[1;36m13\u001b[0m\u001b[1;33m:\u001b[0m\u001b[1;33m\u001b[0m\u001b[1;33m\u001b[0m\u001b[0m\n\u001b[0m\u001b[0;32m      4\u001b[0m     \u001b[0mprint\u001b[0m\u001b[1;33m(\u001b[0m\u001b[1;34m'Você pode acessar Redes Sociais sem supervisão!'\u001b[0m\u001b[1;33m)\u001b[0m\u001b[1;33m\u001b[0m\u001b[1;33m\u001b[0m\u001b[0m\n\u001b[0;32m      5\u001b[0m \u001b[1;32melse\u001b[0m\u001b[1;33m:\u001b[0m\u001b[1;33m\u001b[0m\u001b[1;33m\u001b[0m\u001b[0m\n",
      "\u001b[1;31mTypeError\u001b[0m: '>' not supported between instances of 'str' and 'int'"
     ]
    }
   ],
   "source": [
    "# erro ao executar por causa de conversão\n",
    "idade  = input('Digite sua idade: ')\n",
    "if idade > 13:\n",
    "    print('Você pode acessar Redes Sociais sem supervisão!')\n",
    "else:\n",
    "    print('Seus pais não deveriam deixar você acessar Redes Sociais sem supervisão')"
   ]
  },
  {
   "cell_type": "code",
   "execution_count": 9,
   "id": "d832b6ba",
   "metadata": {},
   "outputs": [
    {
     "name": "stdout",
     "output_type": "stream",
     "text": [
      "Digite sua idade: 24\n",
      "Você pode acessar Redes Sociais sem supervisão!\n"
     ]
    }
   ],
   "source": [
    "# erro ao executar por causa de conversão\n",
    "idade  = int(input('Digite sua idade: '))\n",
    "if idade > 13:\n",
    "    print('Você pode acessar Redes Sociais sem supervisão!')\n",
    "else:\n",
    "    print('Seus pais não deveriam deixar você acessar Redes Sociais sem supervisão')"
   ]
  },
  {
   "cell_type": "code",
   "execution_count": 10,
   "id": "27557205",
   "metadata": {},
   "outputs": [
    {
     "data": {
      "text/plain": [
       "26"
      ]
     },
     "execution_count": 10,
     "metadata": {},
     "output_type": "execute_result"
    }
   ],
   "source": [
    "int('26')"
   ]
  },
  {
   "cell_type": "code",
   "execution_count": 11,
   "id": "e111a110",
   "metadata": {},
   "outputs": [
    {
     "data": {
      "text/plain": [
       "123.456"
      ]
     },
     "execution_count": 11,
     "metadata": {},
     "output_type": "execute_result"
    }
   ],
   "source": [
    "float('123.456')"
   ]
  },
  {
   "cell_type": "code",
   "execution_count": 12,
   "id": "3e0153f0",
   "metadata": {},
   "outputs": [
    {
     "data": {
      "text/plain": [
       "'14'"
      ]
     },
     "execution_count": 12,
     "metadata": {},
     "output_type": "execute_result"
    }
   ],
   "source": [
    "str(14)"
   ]
  },
  {
   "cell_type": "code",
   "execution_count": 13,
   "id": "59420d62",
   "metadata": {},
   "outputs": [
    {
     "data": {
      "text/plain": [
       "4"
      ]
     },
     "execution_count": 13,
     "metadata": {},
     "output_type": "execute_result"
    }
   ],
   "source": [
    "len([23,34,46,46])"
   ]
  },
  {
   "cell_type": "code",
   "execution_count": 14,
   "id": "195d4b99",
   "metadata": {},
   "outputs": [],
   "source": [
    "array = [1, 2, 3]"
   ]
  },
  {
   "cell_type": "code",
   "execution_count": 16,
   "id": "a3a41515",
   "metadata": {},
   "outputs": [
    {
     "data": {
      "text/plain": [
       "3"
      ]
     },
     "execution_count": 16,
     "metadata": {},
     "output_type": "execute_result"
    }
   ],
   "source": [
    "max(array)"
   ]
  },
  {
   "cell_type": "code",
   "execution_count": 17,
   "id": "17843650",
   "metadata": {},
   "outputs": [
    {
     "data": {
      "text/plain": [
       "1"
      ]
     },
     "execution_count": 17,
     "metadata": {},
     "output_type": "execute_result"
    }
   ],
   "source": [
    "min(array)"
   ]
  },
  {
   "cell_type": "code",
   "execution_count": 19,
   "id": "1d3cb28c",
   "metadata": {},
   "outputs": [],
   "source": [
    "list1 = [ 16, 23, 44, 75 ]"
   ]
  },
  {
   "cell_type": "code",
   "execution_count": 20,
   "id": "7c6f9111",
   "metadata": {},
   "outputs": [
    {
     "data": {
      "text/plain": [
       "158"
      ]
     },
     "execution_count": 20,
     "metadata": {},
     "output_type": "execute_result"
    }
   ],
   "source": [
    "sum(list1)"
   ]
  },
  {
   "cell_type": "markdown",
   "id": "d0da81f3",
   "metadata": {},
   "source": [
    "## Criando Funções Usando Outras Funções\n",
    "\n",
    "https://pypi.org"
   ]
  },
  {
   "cell_type": "code",
   "execution_count": 1,
   "id": "4c0808dd",
   "metadata": {},
   "outputs": [],
   "source": [
    "import math\n",
    "\n",
    "# verificando se um número é primo\n",
    "def numPrimo(num):\n",
    "    if (num % 2) == 0 and num > 2:\n",
    "        return 'Este número não é primo'\n",
    "    for i in range(3, int(math.sqrt(num)) + 1, 2):\n",
    "        if (num % i) == 0:\n",
    "            return 'Este número não é primo'\n",
    "    return 'Este número é primo'\n",
    "    "
   ]
  },
  {
   "cell_type": "code",
   "execution_count": 2,
   "id": "2a4a74c7",
   "metadata": {},
   "outputs": [
    {
     "data": {
      "text/plain": [
       "'Este número é primo'"
      ]
     },
     "execution_count": 2,
     "metadata": {},
     "output_type": "execute_result"
    }
   ],
   "source": [
    "numPrimo(541)"
   ]
  },
  {
   "cell_type": "code",
   "execution_count": 3,
   "id": "e08fe0dc",
   "metadata": {},
   "outputs": [
    {
     "data": {
      "text/plain": [
       "'Este número é primo'"
      ]
     },
     "execution_count": 3,
     "metadata": {},
     "output_type": "execute_result"
    }
   ],
   "source": [
    "numPrimo(2)"
   ]
  },
  {
   "cell_type": "code",
   "execution_count": 4,
   "id": "36b95933",
   "metadata": {},
   "outputs": [
    {
     "data": {
      "text/plain": [
       "'Este número é primo'"
      ]
     },
     "execution_count": 4,
     "metadata": {},
     "output_type": "execute_result"
    }
   ],
   "source": [
    "numPrimo(5)"
   ]
  },
  {
   "cell_type": "code",
   "execution_count": 5,
   "id": "ced788fc",
   "metadata": {},
   "outputs": [],
   "source": [
    "caixa_baixa = 'Este Texto Deveria Estar Todo Em Minusculo'"
   ]
  },
  {
   "cell_type": "code",
   "execution_count": 6,
   "id": "91862300",
   "metadata": {},
   "outputs": [],
   "source": [
    "def lowerCase(text):\n",
    "    return text.lower()"
   ]
  },
  {
   "cell_type": "code",
   "execution_count": 7,
   "id": "ad4aee82",
   "metadata": {},
   "outputs": [],
   "source": [
    "lowercasestring = lowerCase(caixa_baixa)"
   ]
  },
  {
   "cell_type": "code",
   "execution_count": 8,
   "id": "1e0ede04",
   "metadata": {},
   "outputs": [
    {
     "data": {
      "text/plain": [
       "'este texto deveria estar todo em minusculo'"
      ]
     },
     "execution_count": 8,
     "metadata": {},
     "output_type": "execute_result"
    }
   ],
   "source": [
    "lowercasestring"
   ]
  },
  {
   "cell_type": "markdown",
   "id": "142f2dfb",
   "metadata": {},
   "source": [
    "## Fazendo Split do Dados"
   ]
  },
  {
   "cell_type": "code",
   "execution_count": 9,
   "id": "32d6ee86",
   "metadata": {},
   "outputs": [],
   "source": [
    "# fazendo split dos dados\n",
    "def split_string_palavras(text):\n",
    "    return text.split(\" \")"
   ]
  },
  {
   "cell_type": "code",
   "execution_count": 10,
   "id": "7dad019d",
   "metadata": {},
   "outputs": [],
   "source": [
    "texto = 'Esta função será bastante útil para separar grandes volumes de dados.'"
   ]
  },
  {
   "cell_type": "code",
   "execution_count": 11,
   "id": "c10c295c",
   "metadata": {},
   "outputs": [
    {
     "name": "stdout",
     "output_type": "stream",
     "text": [
      "['Esta', 'função', 'será', 'bastante', 'útil', 'para', 'separar', 'grandes', 'volumes', 'de', 'dados.']\n"
     ]
    }
   ],
   "source": [
    "# isso divide a string  em uma lista  de palavras\n",
    "print(split_string_palavras(texto))"
   ]
  },
  {
   "cell_type": "code",
   "execution_count": 12,
   "id": "7313a76d",
   "metadata": {},
   "outputs": [],
   "source": [
    "token = split_string_palavras(texto)"
   ]
  },
  {
   "cell_type": "code",
   "execution_count": 13,
   "id": "5232e441",
   "metadata": {},
   "outputs": [
    {
     "data": {
      "text/plain": [
       "['Esta',\n",
       " 'função',\n",
       " 'será',\n",
       " 'bastante',\n",
       " 'útil',\n",
       " 'para',\n",
       " 'separar',\n",
       " 'grandes',\n",
       " 'volumes',\n",
       " 'de',\n",
       " 'dados.']"
      ]
     },
     "execution_count": 13,
     "metadata": {},
     "output_type": "execute_result"
    }
   ],
   "source": [
    "token"
   ]
  },
  {
   "cell_type": "code",
   "execution_count": null,
   "id": "7aa32b2f",
   "metadata": {},
   "outputs": [],
   "source": []
  }
 ],
 "metadata": {
  "kernelspec": {
   "display_name": "Python 3 (ipykernel)",
   "language": "python",
   "name": "python3"
  },
  "language_info": {
   "codemirror_mode": {
    "name": "ipython",
    "version": 3
   },
   "file_extension": ".py",
   "mimetype": "text/x-python",
   "name": "python",
   "nbconvert_exporter": "python",
   "pygments_lexer": "ipython3",
   "version": "3.11.3"
  }
 },
 "nbformat": 4,
 "nbformat_minor": 5
}
