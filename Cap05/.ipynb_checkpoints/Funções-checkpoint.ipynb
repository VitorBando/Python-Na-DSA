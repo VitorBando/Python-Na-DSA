{
 "cells": [
  {
   "cell_type": "markdown",
   "id": "52272e13",
   "metadata": {},
   "source": [
    "# DSA Funções"
   ]
  },
  {
   "cell_type": "code",
   "execution_count": 1,
   "id": "b5c2cba4",
   "metadata": {},
   "outputs": [
    {
     "name": "stdout",
     "output_type": "stream",
     "text": [
      "Versão Python 3.9.13\n"
     ]
    }
   ],
   "source": [
    "# Versão da linguagem Python \n",
    "from platform import python_version\n",
    "print('Versão Python ' + python_version())"
   ]
  },
  {
   "cell_type": "markdown",
   "id": "abfca411",
   "metadata": {},
   "source": [
    "## Funções"
   ]
  },
  {
   "cell_type": "code",
   "execution_count": 2,
   "id": "bb165357",
   "metadata": {},
   "outputs": [
    {
     "name": "stdout",
     "output_type": "stream",
     "text": [
      "Hello World\n"
     ]
    }
   ],
   "source": [
    "print('Hello World')"
   ]
  },
  {
   "cell_type": "code",
   "execution_count": 3,
   "id": "f7aa4153",
   "metadata": {},
   "outputs": [],
   "source": [
    "# definindo uma função\n",
    "def primeiraFunc():\n",
    "    print('Hello World')"
   ]
  },
  {
   "cell_type": "code",
   "execution_count": 4,
   "id": "27d3918c",
   "metadata": {},
   "outputs": [
    {
     "name": "stdout",
     "output_type": "stream",
     "text": [
      "Hello World\n"
     ]
    }
   ],
   "source": [
    "primeiraFunc()"
   ]
  },
  {
   "cell_type": "code",
   "execution_count": 7,
   "id": "90939fc0",
   "metadata": {},
   "outputs": [],
   "source": [
    "# definindo uma \n",
    "def primeiraFunc():\n",
    "    nome = 'Vitor'\n",
    "    print('Hello %s' %(nome))"
   ]
  },
  {
   "cell_type": "code",
   "execution_count": 8,
   "id": "80cd8604",
   "metadata": {},
   "outputs": [
    {
     "name": "stdout",
     "output_type": "stream",
     "text": [
      "Hello Vitor\n"
     ]
    }
   ],
   "source": [
    "primeiraFunc()"
   ]
  },
  {
   "cell_type": "code",
   "execution_count": 9,
   "id": "5be20aa9",
   "metadata": {},
   "outputs": [],
   "source": [
    "# definindo uma função com parametro\n",
    "def segundaFunc(nome):\n",
    "    print('Hello %s' %(nome))"
   ]
  },
  {
   "cell_type": "code",
   "execution_count": 10,
   "id": "31d3a76a",
   "metadata": {},
   "outputs": [
    {
     "name": "stdout",
     "output_type": "stream",
     "text": [
      "Hello Aluno\n"
     ]
    }
   ],
   "source": [
    "segundaFunc('Aluno')"
   ]
  },
  {
   "cell_type": "code",
   "execution_count": 11,
   "id": "017c660a",
   "metadata": {},
   "outputs": [
    {
     "ename": "TypeError",
     "evalue": "segundaFunc() missing 1 required positional argument: 'nome'",
     "output_type": "error",
     "traceback": [
      "\u001b[1;31m---------------------------------------------------------------------------\u001b[0m",
      "\u001b[1;31mTypeError\u001b[0m                                 Traceback (most recent call last)",
      "\u001b[1;32m~\\AppData\\Local\\Temp\\ipykernel_15612\\494153477.py\u001b[0m in \u001b[0;36m<module>\u001b[1;34m\u001b[0m\n\u001b[1;32m----> 1\u001b[1;33m \u001b[0msegundaFunc\u001b[0m\u001b[1;33m(\u001b[0m\u001b[1;33m)\u001b[0m\u001b[1;33m\u001b[0m\u001b[1;33m\u001b[0m\u001b[0m\n\u001b[0m",
      "\u001b[1;31mTypeError\u001b[0m: segundaFunc() missing 1 required positional argument: 'nome'"
     ]
    }
   ],
   "source": [
    "segundaFunc()"
   ]
  },
  {
   "cell_type": "code",
   "execution_count": 14,
   "id": "9bee6f19",
   "metadata": {},
   "outputs": [],
   "source": [
    "# função para imprimir numeros\n",
    "def imprimeNumeros():\n",
    "    \n",
    "    # loop\n",
    "    for i in range(0,5):\n",
    "        print('Numero ' + str(i))"
   ]
  },
  {
   "cell_type": "code",
   "execution_count": 15,
   "id": "ceeb3698",
   "metadata": {},
   "outputs": [
    {
     "name": "stdout",
     "output_type": "stream",
     "text": [
      "Numero 0\n",
      "Numero 1\n",
      "Numero 2\n",
      "Numero 3\n",
      "Numero 4\n"
     ]
    }
   ],
   "source": [
    "imprimeNumeros()"
   ]
  },
  {
   "cell_type": "code",
   "execution_count": 21,
   "id": "61cf7cfc",
   "metadata": {},
   "outputs": [],
   "source": [
    "# função para somar números\n",
    "def addNum(firstnum, secondnum):\n",
    "    print('Primeiro número: ' + str(firstnum))\n",
    "    print('Segundo número: ' + str(secondnum))\n",
    "    print('Soma: ', firstnum + secondnum)"
   ]
  },
  {
   "cell_type": "code",
   "execution_count": 22,
   "id": "188b5c5b",
   "metadata": {},
   "outputs": [
    {
     "name": "stdout",
     "output_type": "stream",
     "text": [
      "Primeiro número: 10\n",
      "Segundo número: 15\n",
      "Soma:  25\n"
     ]
    }
   ],
   "source": [
    "# chamando a função e passando parametro\n",
    "addNum(10, 15)"
   ]
  },
  {
   "cell_type": "code",
   "execution_count": 24,
   "id": "0868e664",
   "metadata": {},
   "outputs": [
    {
     "name": "stdout",
     "output_type": "stream",
     "text": [
      "Primeiro número: 50\n",
      "Segundo número: 150\n",
      "Soma:  200\n"
     ]
    }
   ],
   "source": [
    "# chamando a função a passando parametro\n",
    "addNum(50, 150)"
   ]
  },
  {
   "cell_type": "code",
   "execution_count": 32,
   "id": "4f75c929",
   "metadata": {},
   "outputs": [],
   "source": [
    "# funções com número variavel de argumentos\n",
    "def printVarInfo(arg1, *vartuple):\n",
    "    # imprimindo o valor do primeiro argumento\n",
    "    print('O parametro passado foi: ', arg1)\n",
    "    \n",
    "    # imprimindo o valor do segundo argumento\n",
    "    for item in vartuple:\n",
    "        print('O parametro passado foi: ', item)\n",
    "    return;"
   ]
  },
  {
   "cell_type": "code",
   "execution_count": 33,
   "id": "80016f77",
   "metadata": {},
   "outputs": [
    {
     "name": "stdout",
     "output_type": "stream",
     "text": [
      "O parametro passado foi:  10\n"
     ]
    }
   ],
   "source": [
    "# fazendo chamada à função usando apenas 1 arg\n",
    "printVarInfo(10)"
   ]
  },
  {
   "cell_type": "code",
   "execution_count": 34,
   "id": "39218855",
   "metadata": {},
   "outputs": [
    {
     "name": "stdout",
     "output_type": "stream",
     "text": [
      "O parametro passado foi:  Abacaxi\n",
      "O parametro passado foi:  Pera\n"
     ]
    }
   ],
   "source": [
    "# fazendo chamada à função usando tupla\n",
    "printVarInfo('Abacaxi', 'Pera')"
   ]
  },
  {
   "cell_type": "code",
   "execution_count": 35,
   "id": "eeb198ff",
   "metadata": {},
   "outputs": [
    {
     "name": "stdout",
     "output_type": "stream",
     "text": [
      "O parametro passado foi:  Esteira\n",
      "O parametro passado foi:  Abdomen\n",
      "O parametro passado foi:  Jump\n"
     ]
    }
   ],
   "source": [
    "printVarInfo('Esteira','Abdomen','Jump')"
   ]
  },
  {
   "cell_type": "code",
   "execution_count": null,
   "id": "4c2461b9",
   "metadata": {},
   "outputs": [],
   "source": []
  }
 ],
 "metadata": {
  "kernelspec": {
   "display_name": "Python 3 (ipykernel)",
   "language": "python",
   "name": "python3"
  },
  "language_info": {
   "codemirror_mode": {
    "name": "ipython",
    "version": 3
   },
   "file_extension": ".py",
   "mimetype": "text/x-python",
   "name": "python",
   "nbconvert_exporter": "python",
   "pygments_lexer": "ipython3",
   "version": "3.9.13"
  }
 },
 "nbformat": 4,
 "nbformat_minor": 5
}
