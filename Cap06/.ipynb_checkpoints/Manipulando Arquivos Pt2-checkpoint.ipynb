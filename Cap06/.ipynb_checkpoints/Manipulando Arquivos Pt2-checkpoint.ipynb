{
 "cells": [
  {
   "cell_type": "markdown",
   "id": "40022e96",
   "metadata": {},
   "source": [
    "# DSA Manipulando Arquivos - Pt 2"
   ]
  },
  {
   "cell_type": "code",
   "execution_count": 1,
   "id": "0a28160c",
   "metadata": {},
   "outputs": [
    {
     "name": "stdout",
     "output_type": "stream",
     "text": [
      "Versão Python 3.9.13\n"
     ]
    }
   ],
   "source": [
    "# Versão da linguagem Python \n",
    "from platform import python_version\n",
    "print('Versão Python ' + python_version())"
   ]
  },
  {
   "cell_type": "markdown",
   "id": "eb80510e",
   "metadata": {},
   "source": [
    "## Manipulando Arquivos TXT\n",
    "\n",
    "TXT é a extensão de arquivo para arquivos de texto puro. Um arquivo TXT é um arquivo de texto simple sem formatação, como negrito, itálico ou fontes diferentes. Ele pode ser aberto e editado com muitos aplicativos diferentes, incluindo editores de texto, processadores de texte e IDEs. Arquivos TXT são amplamente utilizados para armazenar dados de texto simples, como lsitas, notas e documentos de texto. Eles são universais e podem ser lidos em praticamente qualquer dispositivo ou sistema operacional."
   ]
  },
  {
   "cell_type": "code",
   "execution_count": 2,
   "id": "90861721",
   "metadata": {},
   "outputs": [],
   "source": [
    "texto = 'Cientista de Dados pode ser uma excelente alternativa de carreira.\\n'\n",
    "texto = texto + 'Esses profissionais precisam saber como programar em Python.\\n'\n",
    "texto = texto + 'E, claro, devem ser proficientes em Data Science'"
   ]
  },
  {
   "cell_type": "code",
   "execution_count": 3,
   "id": "df78ad4e",
   "metadata": {},
   "outputs": [
    {
     "name": "stdout",
     "output_type": "stream",
     "text": [
      "Cientista de Dados pode ser uma excelente alternativa de carreira.\n",
      "Esses profissionais precisam saber como programar em Python.\n",
      "E, claro, devem ser proficientes em Data Science\n"
     ]
    }
   ],
   "source": [
    "print(texto)"
   ]
  },
  {
   "cell_type": "code",
   "execution_count": 4,
   "id": "b7f9f391",
   "metadata": {},
   "outputs": [],
   "source": [
    "# importando o modulo os\n",
    "import os"
   ]
  },
  {
   "cell_type": "code",
   "execution_count": 5,
   "id": "1efb1a4d",
   "metadata": {},
   "outputs": [],
   "source": [
    "# criando um arquivo\n",
    "arquivo = open(os.path.join('arquivos/cientista.txt'), 'w')"
   ]
  },
  {
   "cell_type": "code",
   "execution_count": 6,
   "id": "a25be16b",
   "metadata": {},
   "outputs": [],
   "source": [
    "# gravando os dados no arquivo\n",
    "for palavra in texto.split():\n",
    "    arquivo.write(palavra + ' ')"
   ]
  },
  {
   "cell_type": "code",
   "execution_count": 7,
   "id": "0eb1fadb",
   "metadata": {},
   "outputs": [],
   "source": [
    "# fechando o arquivo\n",
    "arquivo.close()"
   ]
  },
  {
   "cell_type": "code",
   "execution_count": 8,
   "id": "e36b33e3",
   "metadata": {},
   "outputs": [
    {
     "name": "stdout",
     "output_type": "stream",
     "text": [
      "Cientista de Dados pode ser uma excelente alternativa de carreira. Esses profissionais precisam saber como programar em Python. E, claro, devem ser proficientes em Data Science \n"
     ]
    }
   ],
   "source": [
    "# lendo o arquivo\n",
    "arquivo = open(os.path.join('arquivos/cientista.txt'),'r')\n",
    "conteudo = arquivo.read()\n",
    "arquivo.close()\n",
    "\n",
    "print(conteudo)"
   ]
  },
  {
   "cell_type": "markdown",
   "id": "c3406964",
   "metadata": {},
   "source": [
    "## Usando a expressão with\n",
    "\n",
    "O método close() é executado automaticamente"
   ]
  },
  {
   "cell_type": "code",
   "execution_count": 9,
   "id": "670ee96c",
   "metadata": {},
   "outputs": [],
   "source": [
    "with open ('arquivos/cientista.txt', 'r') as arquivo:\n",
    "    conteudo = arquivo.read()"
   ]
  },
  {
   "cell_type": "code",
   "execution_count": 10,
   "id": "0e244a1f",
   "metadata": {},
   "outputs": [
    {
     "name": "stdout",
     "output_type": "stream",
     "text": [
      "177\n"
     ]
    }
   ],
   "source": [
    "print(len(conteudo))"
   ]
  },
  {
   "cell_type": "code",
   "execution_count": 11,
   "id": "34226ae2",
   "metadata": {},
   "outputs": [
    {
     "name": "stdout",
     "output_type": "stream",
     "text": [
      "Cientista de Dados pode ser uma excelente alternativa de carreira. Esses profissionais precisam saber como programar em Python. E, claro, devem ser proficientes em Data Science \n"
     ]
    }
   ],
   "source": [
    "print(conteudo)"
   ]
  },
  {
   "cell_type": "code",
   "execution_count": 12,
   "id": "06b6a849",
   "metadata": {},
   "outputs": [],
   "source": [
    "with open('arquivos/cientista.txt', 'w') as arquivo:\n",
    "    arquivo.write(texto[:19])\n",
    "    arquivo.write('\\n')\n",
    "    arquivo.write(texto[28:66])# lendo o arquivo"
   ]
  },
  {
   "cell_type": "code",
   "execution_count": 13,
   "id": "a342647f",
   "metadata": {},
   "outputs": [
    {
     "name": "stdout",
     "output_type": "stream",
     "text": [
      "Cientista de Dados \n",
      "uma excelente alternativa de carreira.\n"
     ]
    }
   ],
   "source": [
    "arquivo = open('arquivos/cientista.txt', 'r')\n",
    "conteudo = arquivo.read()\n",
    "arquivo.close()\n",
    "print(conteudo)"
   ]
  },
  {
   "cell_type": "code",
   "execution_count": null,
   "id": "cffc1ffe",
   "metadata": {},
   "outputs": [],
   "source": []
  }
 ],
 "metadata": {
  "kernelspec": {
   "display_name": "Python 3 (ipykernel)",
   "language": "python",
   "name": "python3"
  },
  "language_info": {
   "codemirror_mode": {
    "name": "ipython",
    "version": 3
   },
   "file_extension": ".py",
   "mimetype": "text/x-python",
   "name": "python",
   "nbconvert_exporter": "python",
   "pygments_lexer": "ipython3",
   "version": "3.9.13"
  }
 },
 "nbformat": 4,
 "nbformat_minor": 5
}
