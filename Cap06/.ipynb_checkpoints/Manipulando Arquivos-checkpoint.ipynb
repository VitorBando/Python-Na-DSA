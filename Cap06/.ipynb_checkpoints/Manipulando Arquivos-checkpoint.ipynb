{
 "cells": [
  {
   "cell_type": "markdown",
   "id": "6346e475",
   "metadata": {},
   "source": [
    "# DSA Manipulação de Arquivos"
   ]
  },
  {
   "cell_type": "code",
   "execution_count": 1,
   "id": "72ab93fb",
   "metadata": {},
   "outputs": [
    {
     "name": "stdout",
     "output_type": "stream",
     "text": [
      "Versão Python 3.9.13\n"
     ]
    }
   ],
   "source": [
    "# Versão da linguagem Python \n",
    "from platform import python_version\n",
    "print('Versão Python ' + python_version())"
   ]
  },
  {
   "cell_type": "markdown",
   "id": "6a7bc094",
   "metadata": {},
   "source": [
    "## Manipulando .txt"
   ]
  },
  {
   "cell_type": "code",
   "execution_count": 3,
   "id": "3bf60c7e",
   "metadata": {},
   "outputs": [],
   "source": [
    "# abrindo arquivo txt\n",
    "arq1 = open(\"arquivos/arquivo1.txt\", \"r\")"
   ]
  },
  {
   "cell_type": "code",
   "execution_count": 4,
   "id": "e8d25d5e",
   "metadata": {},
   "outputs": [
    {
     "data": {
      "text/plain": [
       "_io.TextIOWrapper"
      ]
     },
     "execution_count": 4,
     "metadata": {},
     "output_type": "execute_result"
    }
   ],
   "source": [
    "type(arq1)"
   ]
  },
  {
   "cell_type": "code",
   "execution_count": 5,
   "id": "b1052dbd",
   "metadata": {},
   "outputs": [
    {
     "name": "stdout",
     "output_type": "stream",
     "text": [
      "A Data Science Academy fornece cursos de alta qualidade e que transmitem muito conhecimento.\n"
     ]
    }
   ],
   "source": [
    "# lendo o arquivo\n",
    "print(arq1.read())"
   ]
  },
  {
   "cell_type": "code",
   "execution_count": 6,
   "id": "d7b2cbaa",
   "metadata": {},
   "outputs": [
    {
     "name": "stdout",
     "output_type": "stream",
     "text": [
      "92\n"
     ]
    }
   ],
   "source": [
    "# contando a quantidade de caracteres\n",
    "print(arq1.tell())"
   ]
  },
  {
   "cell_type": "code",
   "execution_count": 7,
   "id": "8804ce9f",
   "metadata": {},
   "outputs": [
    {
     "name": "stdout",
     "output_type": "stream",
     "text": [
      "0\n"
     ]
    }
   ],
   "source": [
    "# direcionando o indice do curso, abaixo iremos colocar o cursor no inicio do texto\n",
    "print(arq1.seek(0,0))"
   ]
  },
  {
   "cell_type": "code",
   "execution_count": 8,
   "id": "7fde0037",
   "metadata": {},
   "outputs": [
    {
     "name": "stdout",
     "output_type": "stream",
     "text": [
      "A Data Science Academy \n"
     ]
    }
   ],
   "source": [
    "# lendo o arquivo lendo somente 23 caracteres\n",
    "print(arq1.read(23))"
   ]
  },
  {
   "cell_type": "markdown",
   "id": "d054be9b",
   "metadata": {},
   "source": [
    "## Gravando arquivos"
   ]
  },
  {
   "cell_type": "code",
   "execution_count": 9,
   "id": "787e3a92",
   "metadata": {},
   "outputs": [],
   "source": [
    "# abrindo arquivo para gravação\n",
    "arq2 = open(\"arquivos/arquivo2.txt\", \"w\")"
   ]
  },
  {
   "cell_type": "code",
   "execution_count": 10,
   "id": "4e5f2db4",
   "metadata": {},
   "outputs": [
    {
     "ename": "UnsupportedOperation",
     "evalue": "not readable",
     "output_type": "error",
     "traceback": [
      "\u001b[1;31m---------------------------------------------------------------------------\u001b[0m",
      "\u001b[1;31mUnsupportedOperation\u001b[0m                      Traceback (most recent call last)",
      "\u001b[1;32m~\\AppData\\Local\\Temp\\ipykernel_4404\\2450708930.py\u001b[0m in \u001b[0;36m<module>\u001b[1;34m\u001b[0m\n\u001b[0;32m      1\u001b[0m \u001b[1;31m# arquivo aberto com o parametro \"w\", sendo assim não é possivel ler só escrever\u001b[0m\u001b[1;33m\u001b[0m\u001b[1;33m\u001b[0m\u001b[0m\n\u001b[1;32m----> 2\u001b[1;33m \u001b[0mprint\u001b[0m\u001b[1;33m(\u001b[0m\u001b[0marq2\u001b[0m\u001b[1;33m.\u001b[0m\u001b[0mread\u001b[0m\u001b[1;33m(\u001b[0m\u001b[1;33m)\u001b[0m\u001b[1;33m)\u001b[0m\u001b[1;33m\u001b[0m\u001b[1;33m\u001b[0m\u001b[0m\n\u001b[0m",
      "\u001b[1;31mUnsupportedOperation\u001b[0m: not readable"
     ]
    }
   ],
   "source": [
    "# arquivo aberto com o parametro \"w\", sendo assim não é possivel ler só escrever\n",
    "print(arq2.read())"
   ]
  },
  {
   "cell_type": "code",
   "execution_count": 11,
   "id": "80482e93",
   "metadata": {},
   "outputs": [
    {
     "data": {
      "text/plain": [
       "33"
      ]
     },
     "execution_count": 11,
     "metadata": {},
     "output_type": "execute_result"
    }
   ],
   "source": [
    "# gravando arquivo\n",
    "arq2.write(\"Aprendendo a programar em Python.\")"
   ]
  },
  {
   "cell_type": "code",
   "execution_count": 12,
   "id": "a5d6173c",
   "metadata": {},
   "outputs": [],
   "source": [
    "arq2.close()"
   ]
  },
  {
   "cell_type": "code",
   "execution_count": 13,
   "id": "a41052e6",
   "metadata": {},
   "outputs": [],
   "source": [
    "# abrindo arquivo para leitura\n",
    "arq2 = open(\"arquivos/arquivo2.txt\", \"r\")"
   ]
  },
  {
   "cell_type": "code",
   "execution_count": 14,
   "id": "b6e84d99",
   "metadata": {},
   "outputs": [
    {
     "name": "stdout",
     "output_type": "stream",
     "text": [
      "Aprendendo a programar em Python.\n"
     ]
    }
   ],
   "source": [
    "print(arq2.read())"
   ]
  },
  {
   "cell_type": "code",
   "execution_count": 15,
   "id": "0e4187ae",
   "metadata": {},
   "outputs": [],
   "source": [
    "# acrescentando conteudo\n",
    "arq2 = open(\"arquivos/arquivo2.txt\", \"a\")"
   ]
  },
  {
   "cell_type": "code",
   "execution_count": 16,
   "id": "4d025d5d",
   "metadata": {},
   "outputs": [
    {
     "data": {
      "text/plain": [
       "73"
      ]
     },
     "execution_count": 16,
     "metadata": {},
     "output_type": "execute_result"
    }
   ],
   "source": [
    "arq2.write(\" E a metodologia de ensino da Data Science Academy facilita o aprendizado\")"
   ]
  },
  {
   "cell_type": "code",
   "execution_count": 17,
   "id": "f7e6b0bc",
   "metadata": {},
   "outputs": [],
   "source": [
    "arq2.close()"
   ]
  },
  {
   "cell_type": "code",
   "execution_count": 18,
   "id": "f4409814",
   "metadata": {},
   "outputs": [],
   "source": [
    "arq2 = open(\"arquivos/arquivo2.txt\", \"r\")"
   ]
  },
  {
   "cell_type": "code",
   "execution_count": 19,
   "id": "9202c7d6",
   "metadata": {},
   "outputs": [
    {
     "name": "stdout",
     "output_type": "stream",
     "text": [
      "Aprendendo a programar em Python. E a metodologia de ensino da Data Science Academy facilita o aprendizado\n"
     ]
    }
   ],
   "source": [
    "print(arq2.read())"
   ]
  },
  {
   "cell_type": "code",
   "execution_count": 20,
   "id": "d3a54c01",
   "metadata": {},
   "outputs": [
    {
     "name": "stdout",
     "output_type": "stream",
     "text": [
      "0\n"
     ]
    }
   ],
   "source": [
    "# retornando no inicio\n",
    "print(arq2.seek(0,0))"
   ]
  },
  {
   "cell_type": "code",
   "execution_count": 21,
   "id": "0001729d",
   "metadata": {},
   "outputs": [
    {
     "name": "stdout",
     "output_type": "stream",
     "text": [
      "Aprendendo a programar em Python. E a metodologia de ensino da Data Science Academy facilita o aprendizado\n"
     ]
    }
   ],
   "source": [
    "print(arq2.read())"
   ]
  },
  {
   "cell_type": "code",
   "execution_count": null,
   "id": "9fed3393",
   "metadata": {},
   "outputs": [],
   "source": []
  }
 ],
 "metadata": {
  "kernelspec": {
   "display_name": "Python 3 (ipykernel)",
   "language": "python",
   "name": "python3"
  },
  "language_info": {
   "codemirror_mode": {
    "name": "ipython",
    "version": 3
   },
   "file_extension": ".py",
   "mimetype": "text/x-python",
   "name": "python",
   "nbconvert_exporter": "python",
   "pygments_lexer": "ipython3",
   "version": "3.9.13"
  }
 },
 "nbformat": 4,
 "nbformat_minor": 5
}
